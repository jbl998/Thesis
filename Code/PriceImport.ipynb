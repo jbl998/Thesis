{
 "cells": [
  {
   "cell_type": "code",
   "execution_count": 28,
   "metadata": {},
   "outputs": [],
   "source": [
    "import requests\n",
    "import datetime as dt\n",
    "import numpy as np\n",
    "import pandas as pd\n",
    "import requests\n",
    "from sklearn_extra.cluster import KMedoids # https://scikit-learn-extra.readthedocs.io/en/stable/_modules/sklearn_extra/cluster/_k_medoids.html#KMedoids\n",
    "\n",
    "start = \"2022-01-01T00:00\"\n",
    "# end = (dt.datetime.now()+dt.timedelta(days=5)).strftime(\"%Y-%m-%dT00:00\")\n",
    "end = \"2024-01-01T00:00\"\n",
    "start2 = (dt.datetime.strptime(start, \"%Y-%m-%dT%H:%M\")+ dt.timedelta(hours=0)).strftime(\"%Y-%m-%dT%H:%M\")"
   ]
  },
  {
   "cell_type": "code",
   "execution_count": 29,
   "metadata": {},
   "outputs": [],
   "source": [
    "responseFCR = requests.get(url=f\"https://api.energidataservice.dk/dataset/FcrNdDK2?offset=0&start={start}&end={end}&filter=%7B%22PriceArea%22:[%22DK2%22],%22AuctionType%22:[%22D-1%20early%22,%22D-1%20late%22],%22ProductName%22:[%22FCR-D%20ned%22,%22FCR-d%20upp%22]%7D&sort=HourDK%20ASC\")\n",
    "responseSpot = requests.get(url=f\"https://api.energidataservice.dk/dataset/Elspotprices?offset=0&start={start}&end={end}&filter=%7B%22PriceArea%22:[%22DK2%22]%7D&sort=HourUTC%20ASC\")"
   ]
  },
  {
   "cell_type": "code",
   "execution_count": 30,
   "metadata": {},
   "outputs": [],
   "source": [
    "result = {}\n",
    "result[\"timestamp\"] = dt.datetime.now().strftime(\"%Y-%m-%d %H:%M:%S.%f\")\n",
    "result[\"status_code\"] = responseFCR.status_code\n",
    "if responseFCR.status_code == 200:\n",
    "    result[\"dataFCR\"] = responseFCR.json()[\"records\"]\n",
    "    dfDataFCR = pd.DataFrame.from_records(result[\"dataFCR\"])\n",
    "if responseSpot.status_code == 200:\n",
    "    result[\"dataSpot\"] = responseSpot.json()[\"records\"]\n",
    "    dfDataSpot = pd.DataFrame.from_records(result[\"dataSpot\"])"
   ]
  },
  {
   "cell_type": "code",
   "execution_count": 31,
   "metadata": {},
   "outputs": [],
   "source": [
    "# Convert 'HourDK' to DateTime format\n",
    "dfDataFCR['HourDK'] = pd.to_datetime(dfDataFCR['HourDK'], format='ISO8601')\n",
    "\n",
    "# Group by 'HourDK', 'PriceArea', 'ProductName', and 'AuctionType', then pivot the table\n",
    "grouped = dfDataFCR.groupby(['HourDK', 'PriceArea', 'ProductName', 'AuctionType'])['PriceTotalEUR'].sum().reset_index()\n",
    "pivot_table = grouped.pivot_table(index=['HourDK', 'PriceArea'], columns=['ProductName', 'AuctionType'], values='PriceTotalEUR').reset_index()\n",
    "\n",
    "# Flatten the multi-index columns\n",
    "pivot_table.columns = pivot_table.columns.map(lambda x: f'{x[0]}, {x[1]}' if x[1] else x[0])\n",
    "\n",
    "# Create a range of dates with hourly frequency\n",
    "date_range = pd.date_range(start=start2, periods=len(pivot_table), freq='h')\n",
    "\n",
    "pivot_table['Timestamp'] = pd.DataFrame({'Timestamp': date_range})\n",
    "pivot_table['Date'] = pivot_table['Timestamp'].dt.date\n",
    "pivot_table['Hour'] = pivot_table['Timestamp'].dt.hour\n",
    "dfEU = pivot_table.pivot_table(index=['Date'], columns=['Hour'], values='FCR-D upp, D-1 early', fill_value=0, aggfunc='sum', dropna=False).reset_index()\n",
    "dfLU = pivot_table.pivot_table(index=['Date'], columns=['Hour'], values='FCR-D upp, D-1 late', fill_value=0, aggfunc='sum', dropna=False).reset_index()\n",
    "dfED = pivot_table.pivot_table(index=['Date'], columns=['Hour'], values='FCR-D ned, D-1 early', fill_value=0, aggfunc='sum', dropna=False).reset_index()\n",
    "dfLD = pivot_table.pivot_table(index=['Date'], columns=['Hour'], values='FCR-D ned, D-1 late', fill_value=0, aggfunc='sum', dropna=False).reset_index()"
   ]
  },
  {
   "cell_type": "code",
   "execution_count": 32,
   "metadata": {},
   "outputs": [],
   "source": [
    "# Create a range of dates with hourly frequency\n",
    "date_range = pd.date_range(start=start2, periods=len(dfDataSpot), freq='h')\n",
    "dfDataSpot['Timestamp'] = pd.DataFrame({'Timestamp': date_range})\n",
    "dfDataSpot['Date'] = dfDataSpot['Timestamp'].dt.date\n",
    "dfDataSpot['Hour'] = dfDataSpot['Timestamp'].dt.hour\n",
    "dfSpot = dfDataSpot.pivot_table(index=\"Date\", columns=['Hour'], values='SpotPriceEUR', fill_value=0, aggfunc='sum', dropna=False).reset_index()"
   ]
  },
  {
   "cell_type": "code",
   "execution_count": 33,
   "metadata": {},
   "outputs": [],
   "source": [
    "# Combine DataFrames to 120-axis vectors for \n",
    "dfEarly = dfEU.merge(dfED, on='Date', suffixes=['_EU', '_ED'])\n",
    "dfLate = dfLU.merge(dfLD, on='Date', suffixes=['_LU', '_LD'])\n",
    "dfAll = dfEarly.merge(dfSpot, on='Date').merge(dfLate, on='Date')"
   ]
  },
  {
   "cell_type": "code",
   "execution_count": 34,
   "metadata": {},
   "outputs": [],
   "source": [
    "dfAll.to_csv(r\"C:\\Users\\kmo\\OneDrive - Better Energy\\Documents\\Python\\Speciale\\Data\\pricevectors.csv\", index=False)"
   ]
  },
  {
   "cell_type": "code",
   "execution_count": 35,
   "metadata": {},
   "outputs": [],
   "source": [
    "npAll = dfAll.to_numpy()\n",
    "npAll = np.delete(npAll, obj=0, axis=1)"
   ]
  },
  {
   "cell_type": "code",
   "execution_count": 44,
   "metadata": {},
   "outputs": [],
   "source": [
    "dim = len(dfAll)\n",
    "npDist = np.zeros((dim,dim))\n",
    "for i in range(dim):\n",
    "    for j in range(dim):\n",
    "        v1 = dfAll.loc[i, '0_EU':'23_LD'].to_list()\n",
    "        v2 = dfAll.loc[j, '0_EU':'23_LD'].to_list()\n",
    "        if i == j:\n",
    "            npDist[i,j] = 0\n",
    "        elif i < j:\n",
    "            npDist[i,j] = np.sqrt(sum((float(v1[k])-float(v2[k]))**2 for k in range(len(v1))))\n",
    "        else:\n",
    "            npDist[i,j] = npDist[j,i]"
   ]
  },
  {
   "cell_type": "code",
   "execution_count": 37,
   "metadata": {},
   "outputs": [],
   "source": [
    "dates = dfAll['Date'].to_list()\n",
    "dfDist = pd.DataFrame(npDist, columns=dates)\n",
    "dfDist.insert(0,'Date',dates)\n",
    "dfDist.to_csv(r\"C:\\Users\\kmo\\OneDrive - Better Energy\\Documents\\Python\\Speciale\\Data\\distances.csv\", index=False)"
   ]
  },
  {
   "cell_type": "code",
   "execution_count": 38,
   "metadata": {},
   "outputs": [],
   "source": [
    "kmedoids_100 = KMedoids(n_clusters=100, random_state=0, metric='precomputed', max_iter=1000, method='pam').fit(npDist)\n",
    "npProb = np.array([np.sum(kmedoids_100.labels_ == i)/len(kmedoids_100.labels_) for i in range(100)])\n",
    "npDist_100 = npDist[kmedoids_100.medoid_indices_][:,kmedoids_100.medoid_indices_]"
   ]
  },
  {
   "cell_type": "code",
   "execution_count": 39,
   "metadata": {},
   "outputs": [],
   "source": [
    "npLate = npAll[kmedoids_100.medoid_indices_.tolist()][:,72:]\n",
    "npLU = npAll[kmedoids_100.medoid_indices_.tolist()][:,72:96]\n",
    "npLD = npAll[kmedoids_100.medoid_indices_.tolist()][:,96:120]"
   ]
  },
  {
   "cell_type": "code",
   "execution_count": 40,
   "metadata": {},
   "outputs": [],
   "source": [
    "kmedoids_10 = KMedoids(n_clusters=10, random_state=0, metric='precomputed', max_iter=1000, method='pam').fit(npDist_100)\n",
    "npDist_10 = npDist[kmedoids_10.medoid_indices_][:,kmedoids_10.medoid_indices_]\n",
    "lst = []\n",
    "for i in kmedoids_10.labels_.tolist():\n",
    "    j = (kmedoids_10.medoid_indices_.tolist())[i]\n",
    "    lst.append((kmedoids_100.medoid_indices_.tolist())[j])\n",
    "npSpot = npAll[lst][:,48:72]\n",
    "npGroup = kmedoids_10.labels_.tolist()"
   ]
  },
  {
   "cell_type": "code",
   "execution_count": 41,
   "metadata": {},
   "outputs": [],
   "source": [
    "kmedoids_1 = KMedoids(n_clusters=1, random_state=0, metric='precomputed', max_iter=0, method='pam').fit(npDist_10)\n",
    "idx = kmedoids_100.medoid_indices_[kmedoids_10.medoid_indices_[kmedoids_1.medoid_indices_[0]]]\n",
    "npEarly = npAll[[idx for i in range(100)]][:,0:48]\n",
    "npEU = npAll[[idx for i in range(100)]][:,0:24]\n",
    "npED = npAll[[idx for i in range(100)]][:,24:48]"
   ]
  },
  {
   "cell_type": "code",
   "execution_count": 42,
   "metadata": {},
   "outputs": [],
   "source": [
    "# np arrays to DFs\n",
    "dfPricesEarly = pd.DataFrame(npEarly, index=None)\n",
    "dfPricesSpot = pd.DataFrame(npSpot, index=None)\n",
    "dfPricesLate = pd.DataFrame(npLate, index=None)\n",
    "dfProbabilities = pd.DataFrame(npProb, index=None)\n",
    "dfGroup = pd.DataFrame(npGroup, index=None)\n",
    "\n",
    "\n",
    "dfPricesEarly.to_csv(r\"C:\\Users\\kmo\\OneDrive - Better Energy\\Documents\\Python\\Speciale\\Data\\PricesEarly.csv\", index=False)\n",
    "dfPricesSpot.to_csv(r\"C:\\Users\\kmo\\OneDrive - Better Energy\\Documents\\Python\\Speciale\\Data\\PricesSpot.csv\", index=False)\n",
    "dfPricesLate.to_csv(r\"C:\\Users\\kmo\\OneDrive - Better Energy\\Documents\\Python\\Speciale\\Data\\PricesLate.csv\", index=False)\n",
    "dfProbabilities.to_csv(r\"C:\\Users\\kmo\\OneDrive - Better Energy\\Documents\\Python\\Speciale\\Data\\Probabilities.csv\", index=False)\n",
    "dfGroup.to_csv(r\"C:\\Users\\kmo\\OneDrive - Better Energy\\Documents\\Python\\Speciale\\Data\\Group.csv\", index=False)"
   ]
  }
 ],
 "metadata": {
  "kernelspec": {
   "display_name": "Python 3",
   "language": "python",
   "name": "python3"
  },
  "language_info": {
   "codemirror_mode": {
    "name": "ipython",
    "version": 3
   },
   "file_extension": ".py",
   "mimetype": "text/x-python",
   "name": "python",
   "nbconvert_exporter": "python",
   "pygments_lexer": "ipython3",
   "version": "3.10.4"
  }
 },
 "nbformat": 4,
 "nbformat_minor": 2
}
